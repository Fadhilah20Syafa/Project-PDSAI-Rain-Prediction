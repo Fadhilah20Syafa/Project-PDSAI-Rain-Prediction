{
 "cells": [
  {
   "cell_type": "markdown",
   "id": "28fb6f96-dcf4-4c8a-ac56-fae613accff5",
   "metadata": {},
   "source": [
    "## Imports"
   ]
  },
  {
   "cell_type": "code",
   "execution_count": null,
   "id": "fcb6c43d-e391-4e64-8423-09841a9aa302",
   "metadata": {},
   "outputs": [],
   "source": [
    "import keras.metrics as mt\n",
    "import matplotlib.pyplot as plt\n",
    "import numpy as np\n",
    "import pandas as pd\n",
    "from keras.layers import LSTM, Dense\n",
    "from keras.models import Sequential\n",
    "from sklearn import tree\n",
    "from sklearn.ensemble import RandomForestClassifier\n",
    "from sklearn.linear_model import LogisticRegression\n",
    "from sklearn.metrics import accuracy_score, precision_score, recall_score, ConfusionMatrixDisplay, confusion_matrix, f1_score\n",
    "from sklearn.model_selection import train_test_split\n",
    "from sklearn.preprocessing import MinMaxScaler\n",
    "from sklearn.tree import DecisionTreeClassifier"
   ]
  },
  {
   "cell_type": "markdown",
   "id": "af7fded5-db5b-420f-a1e9-31116f659a1c",
   "metadata": {},
   "source": [
    "## Dataset Preprocessing"
   ]
  },
  {
   "cell_type": "code",
   "execution_count": null,
   "id": "86879d37-cf03-48e8-99ea-e71419c6b831",
   "metadata": {},
   "outputs": [],
   "source": [
    "df = pd.read_csv(\"weatherAUS.csv\") # read the raw dataset (145,460 rows)\n",
    "df.drop([\"Date\", \"Location\", \"WindGustDir\", \"WindDir9am\", \"WindDir3pm\", \"RainToday\"], axis=1, inplace=True) # drop unused attributes\n",
    "df = df[~df.isnull().any(axis=1)] # take rows with no Null or NaN values on all columns; (58,090 rows) ~40% of total dataset\n",
    "\n",
    "# set for each class label to have the same amount of samples\n",
    "df_no = df.query(\"RainTomorrow == 'No'\").sample(n=len(df.query(\"RainTomorrow == 'Yes'\"))) # out of 45,361 rows\n",
    "df_yes = df.query(\"RainTomorrow == 'Yes'\") # use all 12,729 rows\n",
    "\n",
    "df = pd.concat([df_no, df_yes]).sort_index() # concate and sort randomized sample dataset by index\n",
    "\n",
    "df.to_csv(\"readyAUS.csv\", index=False, encoding=\"utf-8\") # write pre processed dataset to a new csv file for easier access in the future"
   ]
  },
  {
   "cell_type": "markdown",
   "id": "2d8ca896-02fa-4c40-a720-74bcac31f141",
   "metadata": {},
   "source": [
    "## Dataset Normalization"
   ]
  },
  {
   "cell_type": "code",
   "execution_count": null,
   "id": "3e131007-fb5e-48cf-87cd-5b69ff7940a1",
   "metadata": {},
   "outputs": [],
   "source": [
    "df = pd.read_csv(\"readyAUS.csv\") # read the dataset\n",
    "y = df.pop(\"RainTomorrow\") # take RainTomorrow column as dataset class label\n",
    "y = y.to_numpy() # convert class label from pandas dataframe to numpy array\n",
    "X = df\n",
    "\n",
    "# change label class value from nominal to numerical\n",
    "y = pd.get_dummies(y)\n",
    "y = y.values.argmax(1)\n",
    "\n",
    "X = MinMaxScaler().fit_transform(X) # normalize dataset values between 0 and 1\n",
    "X_train, X_test, y_train, y_test = train_test_split(X, y, test_size=0.3, random_state=42) # split train:test = 70:30"
   ]
  },
  {
   "cell_type": "markdown",
   "id": "b3696cca-a52c-46e7-8b45-63e1d9091875",
   "metadata": {},
   "source": [
    "## Decision Tree"
   ]
  },
  {
   "cell_type": "code",
   "execution_count": null,
   "id": "4585cc24-6519-4072-aa12-c80fbddbd9d8",
   "metadata": {},
   "outputs": [],
   "source": [
    "dt = DecisionTreeClassifier(criterion=\"gini\", max_depth=6, min_samples_leaf=150, max_features=13, random_state=42)\n",
    "\n",
    "dt = dt.fit(X_train, y_train)\n",
    "\n",
    "y_pred = dt.predict(X_test)\n",
    "\n",
    "# classification evaluation\n",
    "print(\"=========== F1 SCORE ===========\")\n",
    "print(f1_score(y_test, y_pred).round(5))\n",
    "print(\"======== ACCURACY SCORE ========\")\n",
    "print(accuracy_score(y_test, y_pred).round(5))\n",
    "print(\"======= PRECISION SCORE ========\")\n",
    "print(precision_score(y_test, y_pred).round(5))\n",
    "print(\"========= RECALL SCORE =========\")\n",
    "print(recall_score(y_test, y_pred).round(5))\n",
    "print(\"================================\\n\")\n",
    "\n",
    "c_m = confusion_matrix(y_test, y_pred)\n",
    "dis_cm = ConfusionMatrixDisplay(confusion_matrix=c_m, display_labels = [\"NotRain\", \"Rain\"])\n",
    "\n",
    "dis_cm.plot(cmap = plt.cm.magma)\n",
    "dis_cm.ax_.set_title(\"\\nAustralia Weather Dataset Confusion Matrix\\n(Decision Tree)\\n\", fontsize = 12.5);\n",
    "# dis_cm.ax_.figure.savefig(\"decision_tree.png\", bbox_inches=\"tight\")"
   ]
  },
  {
   "cell_type": "markdown",
   "id": "7dc80968-9610-4ae3-baa6-9c7bc31baa56",
   "metadata": {},
   "source": [
    "## Random Forest"
   ]
  },
  {
   "cell_type": "code",
   "execution_count": null,
   "id": "d493f746-a8cf-4cc3-bb3d-3fea11d22b43",
   "metadata": {},
   "outputs": [],
   "source": [
    "rf = RandomForestClassifier(n_estimators=250, criterion=\"entropy\", max_depth=7, min_samples_leaf=100, max_features=11, random_state=42)\n",
    "\n",
    "rf.fit(X_train, y_train)\n",
    "\n",
    "y_pred = rf.predict(X_test)\n",
    "\n",
    "# classification evaluation\n",
    "print(\"=========== F1 SCORE ===========\")\n",
    "print(f1_score(y_test, y_pred).round(5))\n",
    "print(\"======== ACCURACY SCORE ========\")\n",
    "print(accuracy_score(y_test, y_pred).round(5))\n",
    "print(\"======= PRECISION SCORE ========\")\n",
    "print(precision_score(y_test, y_pred).round(5))\n",
    "print(\"========= RECALL SCORE =========\")\n",
    "print(recall_score(y_test, y_pred).round(5))\n",
    "print(\"================================\\n\")\n",
    "\n",
    "c_m = confusion_matrix(y_test, y_pred)\n",
    "dis_cm = ConfusionMatrixDisplay(confusion_matrix=c_m, display_labels = [\"NotRain\", \"Rain\"])\n",
    "\n",
    "dis_cm.plot(cmap = plt.cm.magma)\n",
    "dis_cm.ax_.set_title(\"\\nAustralia Weather Dataset Confusion Matrix\\n(Random Forest)\\n\", fontsize = 12.5);\n",
    "# dis_cm.ax_.figure.savefig(\"random_forest.png\", bbox_inches=\"tight\")"
   ]
  },
  {
   "cell_type": "markdown",
   "id": "77b68252-001a-40cb-9689-2401ff75d43d",
   "metadata": {},
   "source": [
    "## Logistic Regression (Sklearn)"
   ]
  },
  {
   "cell_type": "code",
   "execution_count": null,
   "id": "386f2fef-bb0b-4de5-9a26-f263fd34cba1",
   "metadata": {},
   "outputs": [],
   "source": [
    "logreg = LogisticRegression(max_iter=250, solver=\"sag\", multi_class=\"ovr\", tol=0.005, random_state=42)\n",
    "\n",
    "logreg.fit(X_train, y_train)\n",
    "\n",
    "y_pred = logreg.predict(X_test)\n",
    "\n",
    "# classification evaluation\n",
    "print(\"=========== F1 SCORE ===========\")\n",
    "print(f1_score(y_test, y_pred).round(5))\n",
    "print(\"======== ACCURACY SCORE ========\")\n",
    "print(accuracy_score(y_test, y_pred).round(5))\n",
    "print(\"======= PRECISION SCORE ========\")\n",
    "print(precision_score(y_test, y_pred).round(5))\n",
    "print(\"========= RECALL SCORE =========\")\n",
    "print(recall_score(y_test, y_pred).round(5))\n",
    "print(\"================================\\n\")\n",
    "\n",
    "c_m = confusion_matrix(y_test, y_pred)\n",
    "dis_cm = ConfusionMatrixDisplay(confusion_matrix=c_m, display_labels = [\"NotRain\", \"Rain\"])\n",
    "\n",
    "dis_cm.plot(cmap = plt.cm.magma)\n",
    "dis_cm.ax_.set_title(\"\\nAustralia Weather Dataset Confusion Matrix\\n(Logistic Regression (Sklearn))\\n\", fontsize = 12.5);\n",
    "# dis_cm.ax_.figure.savefig(\"logit_sklearn.png\", bbox_inches=\"tight\")"
   ]
  },
  {
   "cell_type": "markdown",
   "id": "7552b8bd-fde6-4625-b3b5-550b97b2bccf",
   "metadata": {},
   "source": [
    "## Logistic Regression (Scratch Code)"
   ]
  },
  {
   "cell_type": "code",
   "execution_count": null,
   "id": "91b00d71-b434-471e-8389-ace7e7a8ae8a",
   "metadata": {},
   "outputs": [],
   "source": [
    "# initialize intercepts for train dan test dataset\n",
    "intercept = np.ones((X_train.shape[0], 1))\n",
    "X_train = np.concatenate((intercept, X_train), axis=1)\n",
    "intercept = np.ones((X_test.shape[0], 1))\n",
    "X_test = np.concatenate((intercept, X_test), axis=1)\n",
    "\n",
    "# define algorithm (mini-batch gradient descent)\n",
    "theta = np.zeros(X_train.shape[1]) # initialize thetas with zeros\n",
    "alpha = 0.0005 # define learning rate\n",
    "epochs = 10000 # number of iterations\n",
    "batch_size = int(0.1 * X_train.shape[0]) # make batch size 5% of sample size\n",
    "\n",
    "def gradient(X, err): # define gradient function\n",
    "    return X.T @ err\n",
    "\n",
    "def sigmoid(x): # define sigmoid function\n",
    "    return 1 / (1 + np.exp(-x))\n",
    "        \n",
    "def h_theta(X, theta): # define hypothesis function\n",
    "    return sigmoid(X @ theta)\n",
    "\n",
    "def output(y_pred): # define function to convert y_pred values to int\n",
    "    return np.round(y_pred)\n",
    "\n",
    "for i in range(epochs):\n",
    "    batch_X = [] # reinitialize training sample batch\n",
    "    batch_Y = [] # reinitialize training class batch\n",
    "    ix = np.random.randint(0, X_train.shape[0] - batch_size) # selecting random batch starting point\n",
    "    batch_X = X_train[ix:ix+batch_size] # X batch size\n",
    "    batch_y = y_train[ix:ix+batch_size] # y batch size\n",
    "\n",
    "    y_pred = h_theta(batch_X, theta) # making prediction using current theta values\n",
    "    err = y_pred - batch_y # calculate error rate\n",
    "    grad = gradient(batch_X, err) # calculate gradient descent\n",
    "    theta = theta - alpha * grad # update theta values\n",
    "\n",
    "y_pred = output(h_theta(X_test, theta)) # making prediction based on last theta found\n",
    "\n",
    "# classification evaluation\n",
    "print(\"=========== F1 SCORE ===========\")\n",
    "print(f1_score(y_test, y_pred).round(5))\n",
    "print(\"======== ACCURACY SCORE ========\")\n",
    "print(accuracy_score(y_test, y_pred).round(5))\n",
    "print(\"======= PRECISION SCORE ========\")\n",
    "print(precision_score(y_test, y_pred).round(5))\n",
    "print(\"========= RECALL SCORE =========\")\n",
    "print(recall_score(y_test, y_pred).round(5))\n",
    "print(\"================================\\n\")\n",
    "\n",
    "c_m = confusion_matrix(y_test, y_pred)\n",
    "dis_cm = ConfusionMatrixDisplay(confusion_matrix=c_m, display_labels = [\"NotRain\", \"Rain\"])\n",
    "\n",
    "dis_cm.plot(cmap = plt.cm.magma)\n",
    "dis_cm.ax_.set_title(\"\\nAustralia Weather Dataset Confusion Matrix\\n(Logistic Regression (Scratch))\\n\", fontsize = 12.5);\n",
    "# dis_cm.ax_.figure.savefig(\"logit_scratch.png\", bbox_inches=\"tight\")"
   ]
  },
  {
   "cell_type": "markdown",
   "id": "ae2ca836-8183-4bfc-a845-9e6232f7a5a3",
   "metadata": {},
   "source": [
    "## Long Short Term Memory (LSTM) (TensorFlow)"
   ]
  },
  {
   "cell_type": "code",
   "execution_count": null,
   "id": "e7928098-2c69-421f-8379-f89546a9bc4c",
   "metadata": {},
   "outputs": [],
   "source": [
    "X_train_lstm = np.reshape(X_train, (X_train.shape[0], X_train.shape[1], 1))\n",
    "X_test_lstm = np.reshape(X_test, (X_test.shape[0], X_test.shape[1], 1))\n",
    "\n",
    "model_lstm = Sequential()\n",
    "model_lstm.add(LSTM(units=64, input_shape=(X_train_lstm.shape[1], 1)))\n",
    "model_lstm.add(Dense(1, activation='sigmoid'))\n",
    "model_lstm.compile(optimizer='adam', loss='binary_crossentropy', metrics=[mt.Recall(), mt.Precision(), mt.BinaryAccuracy()])\n",
    "\n",
    "model_lstm.fit(X_train_lstm, y_train, epochs=20, batch_size=16, validation_data=(X_test_lstm, y_test))\n",
    "y_pred_lstm = (model_lstm.predict(X_test_lstm) > 0.5).astype(int)\n",
    "\n",
    "# Evaluate LSTM model\n",
    "print(\"=========== F1 SCORE ===========\")\n",
    "print(f1_score(y_test, y_pred_lstm).round(5))\n",
    "print(\"======== ACCURACY SCORE ========\")\n",
    "print(accuracy_score(y_test, y_pred_lstm).round(5))\n",
    "print(\"======= PRECISION SCORE ========\")\n",
    "print(precision_score(y_test, y_pred_lstm).round(5))\n",
    "print(\"========= RECALL SCORE =========\")\n",
    "print(recall_score(y_test, y_pred_lstm).round(5))\n",
    "\n",
    "# Confusion Matrix for LSTM\n",
    "cm_lstm = confusion_matrix(y_test, y_pred_lstm)\n",
    "disp_lstm = ConfusionMatrixDisplay(confusion_matrix=cm_lstm, display_labels=['NotRain', 'Rain'])\n",
    "disp_lstm.plot(cmap=plt.cm.magma)\n",
    "plt.title(\"\\nAustralia Weather Dataset Confusion Matrix\\n(LSTM)\\n\", fontsize = 12.5);\n",
    "# plt.savefig(\"lstm.png\", bbox_inches=\"tight\")"
   ]
  }
 ],
 "metadata": {
  "kernelspec": {
   "display_name": "Python 3 (ipykernel)",
   "language": "python",
   "name": "python3"
  },
  "language_info": {
   "codemirror_mode": {
    "name": "ipython",
    "version": 3
   },
   "file_extension": ".py",
   "mimetype": "text/x-python",
   "name": "python",
   "nbconvert_exporter": "python",
   "pygments_lexer": "ipython3",
   "version": "3.11.5"
  }
 },
 "nbformat": 4,
 "nbformat_minor": 5
}
